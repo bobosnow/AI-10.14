{
 "cells": [
  {
   "cell_type": "code",
   "execution_count": 1,
   "metadata": {},
   "outputs": [
    {
     "name": "stdout",
     "output_type": "stream",
     "text": [
      "<html>\n",
      " <head>\n",
      "  <title>\n",
      "   Hello World\n",
      "  </title>\n",
      " </head>\n",
      " <body>\n",
      "  <h2>\n",
      "   Test Header\n",
      "  </h2>\n",
      "  <p>\n",
      "   This is a test.\n",
      "  </p>\n",
      "  <a href=\"/my_link1\" id=\"link1\">\n",
      "   Link 1\n",
      "  </a>\n",
      "  <a href=\"/my_link2\" id=\"link2\">\n",
      "   Link 2\n",
      "  </a>\n",
      "  <p>\n",
      "   Hello,\n",
      "   <b class=\"boldtext\">\n",
      "    Bold Text\n",
      "   </b>\n",
      "  </p>\n",
      " </body>\n",
      "</html>\n",
      "\n"
     ]
    }
   ],
   "source": [
    "from bs4 import BeautifulSoup\n",
    "# 原始 HTML 程式碼\n",
    "html_doc= \"\"\"\n",
    "<html>\n",
    "    <head>\n",
    "    <title>Hello World</title>\n",
    "    </head>\n",
    "    \n",
    "    <body>\n",
    "    <h2>Test Header</h2>\n",
    "    <p>This is a test.</p>\n",
    "    <a id=\"link1\" href=\"/my_link1\">Link 1</a>\n",
    "    <a id=\"link2\" href=\"/my_link2\">Link 2</a>\n",
    "    <p>Hello, <b class=\"boldtext\">Bold Text</b></p>\n",
    "    </body>\n",
    "</html>\n",
    "\"\"\"\n",
    "# 以 Beautiful Soup 释析 HTML 程式碼\n",
    "#url = 'https://dct. ntcu.edu.tw/news.php'\n",
    "soup = BeautifulSoup (html_doc, 'html.parser')\n",
    "print (soup. prettify())"
   ]
  },
  {
   "cell_type": "code",
   "execution_count": null,
   "metadata": {},
   "outputs": [],
   "source": []
  }
 ],
 "metadata": {
  "kernelspec": {
   "display_name": "Python 3",
   "language": "python",
   "name": "python3"
  },
  "language_info": {
   "codemirror_mode": {
    "name": "ipython",
    "version": 3
   },
   "file_extension": ".py",
   "mimetype": "text/x-python",
   "name": "python",
   "nbconvert_exporter": "python",
   "pygments_lexer": "ipython3",
   "version": "3.8.5"
  }
 },
 "nbformat": 4,
 "nbformat_minor": 4
}
