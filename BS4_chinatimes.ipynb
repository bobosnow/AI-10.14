{
 "cells": [
  {
   "cell_type": "code",
   "execution_count": 1,
   "metadata": {},
   "outputs": [
    {
     "name": "stdout",
     "output_type": "stream",
     "text": [
      "馬英九台北市長政績如何？資料一攤開酸民全傻了 - 政治\n",
      "https://www.chinatimes.com/realtimenews/20201014001824-260407?ctrack=pc_main_hot_p01\n",
      "罷韓後高雄變冷清？他「1張空拍圖」曝現況 網大驚 - 政治\n",
      "https://www.chinatimes.com/realtimenews/20201013005450-260407?ctrack=pc_main_hot_p02\n",
      "韓國瑜手上握有「最強血滴子」？軍校校友會理事長不藏了 - 政治\n",
      "https://www.chinatimes.com/realtimenews/20201014002371-260407?ctrack=pc_main_hot_p03\n",
      "林子祥73歲近況曝光 生日同框愛妻葉蒨文「竟像父女」 - 娛樂\n",
      "https://www.chinatimes.com/realtimenews/20201013003240-260404?ctrack=pc_main_hot_p04\n",
      "得知韓國瑜確定被罷免 李四川立刻做了這件事 - 政治\n",
      "https://www.chinatimes.com/realtimenews/20201014001381-260407?ctrack=pc_main_hot_p05\n",
      "韓國瑜留下爛攤子？黃捷要高雄對「這55位孩子」負責 - 政治\n",
      "https://www.chinatimes.com/realtimenews/20201014001466-260407?ctrack=pc_main_hot_p06\n",
      "iPhone 12系列不送充電器及耳機 充電線也改換一新 - 科技 - 科技\n",
      "https://www.chinatimes.com/realtimenews/20201014000915-260412?ctrack=pc_main_hot_p07\n",
      "正妹露事業線面試該錄取？身份曝光男網友爆動：直接娶回家\n",
      "https://www.chinatimes.com/realtimenews/20201014004141-260402?ctrack=pc_main_rtime_p01\n",
      "腎臟名醫江守山詐領健保費 法院判徒刑5月\n",
      "https://www.chinatimes.com/realtimenews/20201014004192-260402?ctrack=pc_main_rtime_p02\n",
      "基隆男暴力搶奪漁貨 砍殺同業遭起訴\n",
      "https://www.chinatimes.com/realtimenews/20201014004177-260402?ctrack=pc_main_rtime_p03\n",
      "劉美芳促成修法 新北千餘宮廟可望合法接水電\n",
      "https://www.chinatimes.com/realtimenews/20201014004184-260405?ctrack=pc_main_rtime_p04\n",
      "《光電股》群創產品合規供應商大會 續聚焦SDGs氣候行動\n",
      "https://www.chinatimes.com/realtimenews/20201014004188-260410?ctrack=pc_main_rtime_p05\n",
      "《國際經濟》解封效益 新加坡Q3經濟萎縮減緩\n",
      "https://www.chinatimes.com/realtimenews/20201014004186-260410?ctrack=pc_main_rtime_p06\n",
      "台灣疫苗策略 陳時中：重複投資在所不惜\n",
      "https://www.chinatimes.com/realtimenews/20201014004137-260405?ctrack=pc_main_rtime_p07\n",
      "嚴管「道路殺手」 台南花12億元促8米以上路口孔蓋抗滑值達標\n",
      "https://www.chinatimes.com/realtimenews/20201014004129-260405?ctrack=pc_main_rtime_p08\n",
      "清景麟基金會攜手農業金庫 台東種樹守護環境\n",
      "https://www.chinatimes.com/realtimenews/20201014004135-260410?ctrack=pc_main_rtime_p09\n",
      "行前必知 日月潭花火音樂會實施道路交管\n",
      "https://www.chinatimes.com/realtimenews/20201014004161-260405?ctrack=pc_main_rtime_p10\n",
      "信義房屋獲天下企業公民獎大型企業前三強 社會參與分...\n",
      "https://www.chinatimes.com/realtimenews/20200904004695-260410?chdtv\n",
      "人才培育兼重專業與品德 信義房屋屢獲國內外CSR獎肯定\n",
      "https://www.chinatimes.com/realtimenews/20201003000013-260410\n",
      "信義房屋「信義徵幸福」短片網路票選 人氣最高可得1萬...\n",
      "https://www.chinatimes.com/realtimenews/20200806003809-260410?chdtv\n",
      "響應環保、支持小農 信義房屋普渡送平安米為社區祈福\n",
      "https://www.chinatimes.com/realtimenews/20200908001699-260410\n",
      "旺House》 房市真的回溫了！內政部鐵證曝光\n",
      "https://www.chinatimes.com/realtimenews/20200825005901-260410\n",
      "旺House》 電商衝擊！投資億元店面下場超慘\n",
      "https://www.chinatimes.com/realtimenews/20200825005000-260410\n",
      "旺House》【崴爺愛看房】捷運公園宅潛力股！移居、宜...\n",
      "https://www.chinatimes.com/realtimenews/20200825000013-260410\n",
      "旺House》必選「合雄5號花園」，超值入主桃園司法特區\n",
      "https://www.chinatimes.com/realtimenews/20200825001596-260410\n"
     ]
    }
   ],
   "source": [
    "import requests\n",
    "from bs4 import BeautifulSoup\n",
    "\n",
    "\n",
    "url = 'https://www.chinatimes.com/?chdtv'\n",
    "r = requests.get(url)\n",
    "\n",
    "#確認是否下載成功\n",
    "if r.status_code == requests.codes.ok:\n",
    "    #以BeautifulSoup 解析 HTML 程式碼\n",
    "    soup = BeautifulSoup(r.text, 'html.parser')\n",
    "    \n",
    "    #以 CSS 的 class 抓出各類頭條新聞\n",
    "    titles = soup.find_all('h4',class_=\"title\")\n",
    "    for title in titles:\n",
    "        print(title.select_one('a').getText())\n",
    "        print(title.select_one('a').get(\"href\"))"
   ]
  },
  {
   "cell_type": "code",
   "execution_count": null,
   "metadata": {},
   "outputs": [],
   "source": []
  },
  {
   "cell_type": "code",
   "execution_count": null,
   "metadata": {},
   "outputs": [],
   "source": []
  }
 ],
 "metadata": {
  "kernelspec": {
   "display_name": "Python 3",
   "language": "python",
   "name": "python3"
  },
  "language_info": {
   "codemirror_mode": {
    "name": "ipython",
    "version": 3
   },
   "file_extension": ".py",
   "mimetype": "text/x-python",
   "name": "python",
   "nbconvert_exporter": "python",
   "pygments_lexer": "ipython3",
   "version": "3.8.5"
  }
 },
 "nbformat": 4,
 "nbformat_minor": 4
}
